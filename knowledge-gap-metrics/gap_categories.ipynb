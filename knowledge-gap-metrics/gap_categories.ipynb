{
 "cells": [
  {
   "cell_type": "code",
   "execution_count": 1,
   "id": "83d66645",
   "metadata": {},
   "outputs": [
    {
     "name": "stdout",
     "output_type": "stream",
     "text": [
      "/home/aikochou/.conda/envs/knowledge_gaps/bin/python\n"
     ]
    }
   ],
   "source": [
    "!which python"
   ]
  },
  {
   "cell_type": "code",
   "execution_count": 2,
   "id": "6e033b26",
   "metadata": {},
   "outputs": [
    {
     "name": "stderr",
     "output_type": "stream",
     "text": [
      "PySpark executors will use /usr/lib/anaconda-wmf/bin/python3.\n"
     ]
    }
   ],
   "source": [
    "from wmfdata.spark import get_session\n",
    "spark = get_session(type='regular')\n",
    "\n",
    "%load_ext autoreload\n",
    "%autoreload 2\n",
    "\n",
    "repo='/home/aikochou/research-ml'\n",
    "import sys\n",
    "sys.path.append(f\"{repo}/research-transform\")"
   ]
  },
  {
   "cell_type": "code",
   "execution_count": 3,
   "id": "221289f0",
   "metadata": {},
   "outputs": [],
   "source": [
    "from research_transform.knowledge_gaps import content_gaps\n",
    "import pyspark.sql.functions as F\n",
    "\n",
    "mediawiki_snapshot = '2021-09'\n",
    "wikidata_snapshot = '2021-10-04'"
   ]
  },
  {
   "cell_type": "code",
   "execution_count": 9,
   "id": "09f39d1a",
   "metadata": {},
   "outputs": [],
   "source": [
    "def add_label(spark, input_df, col, wikidata_snapshot):\n",
    "    input_df.createOrReplaceTempView('input_df')\n",
    "    query = f\"\"\"\n",
    "        SELECT input_df.*, label_val AS gender_label\n",
    "        FROM input_df\n",
    "        LEFT JOIN wmf.wikidata_entity we\n",
    "        ON input_df.{col} = we.id\n",
    "        LATERAL VIEW explode(labels) t AS label_lang, label_val\n",
    "        WHERE t.label_lang='en'\n",
    "        AND typ='item'\n",
    "        AND we.snapshot='{wikidata_snapshot}'\n",
    "    \"\"\"\n",
    "    df = spark.sql(query)\n",
    "    return df"
   ]
  },
  {
   "cell_type": "code",
   "execution_count": 5,
   "id": "dc90cb0b",
   "metadata": {},
   "outputs": [],
   "source": [
    "wikidata_qitems = content_gaps.wikidata_qitems_df(spark, wikidata_snapshot) # around ~94M items\n",
    "wikidata_properties = content_gaps.wikidata_properties(spark, wikidata_snapshot) # around ~1338M property-value pairs"
   ]
  },
  {
   "cell_type": "code",
   "execution_count": 6,
   "id": "1340040c",
   "metadata": {},
   "outputs": [
    {
     "data": {
      "text/plain": [
       "DataFrame[qitem_id: string, property: string, value: string]"
      ]
     },
     "execution_count": 6,
     "metadata": {},
     "output_type": "execute_result"
    }
   ],
   "source": [
    "wikidata_properties.cache()"
   ]
  },
  {
   "cell_type": "code",
   "execution_count": 7,
   "id": "493f4951",
   "metadata": {},
   "outputs": [
    {
     "name": "stdout",
     "output_type": "stream",
     "text": [
      "root\n",
      " |-- qitem_id: string (nullable = true)\n",
      " |-- is_human: boolean (nullable = false)\n",
      " |-- gender: string (nullable = true)\n",
      " |-- sexual_orientation: string (nullable = true)\n",
      "\n"
     ]
    }
   ],
   "source": [
    "wikidata_qitems = content_gaps.append_is_human(wikidata_qitems, wikidata_properties)\n",
    "wikidata_qitems = content_gaps.append_gender(wikidata_qitems, wikidata_properties)\n",
    "wikidata_qitems = content_gaps.append_sexual_orientation(wikidata_qitems, wikidata_properties)\n",
    "wikidata_qitems.printSchema()"
   ]
  },
  {
   "cell_type": "code",
   "execution_count": 8,
   "id": "4a85e919",
   "metadata": {},
   "outputs": [
    {
     "data": {
      "text/plain": [
       "DataFrame[qitem_id: string, is_human: boolean, gender: string, sexual_orientation: string]"
      ]
     },
     "execution_count": 8,
     "metadata": {},
     "output_type": "execute_result"
    }
   ],
   "source": [
    "wikidata_qitems.cache()"
   ]
  },
  {
   "cell_type": "code",
   "execution_count": 10,
   "id": "81f9e68f",
   "metadata": {},
   "outputs": [],
   "source": [
    "biographies = wikidata_qitems.where(F.col('is_human') == True)"
   ]
  },
  {
   "cell_type": "code",
   "execution_count": 13,
   "id": "3895dca8",
   "metadata": {},
   "outputs": [
    {
     "data": {
      "text/plain": [
       "9372956"
      ]
     },
     "execution_count": 13,
     "metadata": {},
     "output_type": "execute_result"
    }
   ],
   "source": [
    "biographies.count() # ~9M"
   ]
  },
  {
   "cell_type": "code",
   "execution_count": 12,
   "id": "ff37e859",
   "metadata": {},
   "outputs": [
    {
     "data": {
      "text/plain": [
       "DataFrame[qitem_id: string, is_human: boolean, gender: string, sexual_orientation: string]"
      ]
     },
     "execution_count": 12,
     "metadata": {},
     "output_type": "execute_result"
    }
   ],
   "source": [
    "biographies.cache()"
   ]
  },
  {
   "cell_type": "code",
   "execution_count": 11,
   "id": "21e98391",
   "metadata": {},
   "outputs": [
    {
     "data": {
      "text/plain": [
       "1954873"
      ]
     },
     "execution_count": 11,
     "metadata": {},
     "output_type": "execute_result"
    }
   ],
   "source": [
    "biographies.where(F.col('gender').isNull()).count() # ~1.9M, most of human qtiems have gender"
   ]
  },
  {
   "cell_type": "code",
   "execution_count": 14,
   "id": "d2a2ef6f",
   "metadata": {},
   "outputs": [
    {
     "data": {
      "text/plain": [
       "9369809"
      ]
     },
     "execution_count": 14,
     "metadata": {},
     "output_type": "execute_result"
    }
   ],
   "source": [
    "biographies.where(F.col('sexual_orientation').isNull()).count() # ~9M, only ~3k have sexual_orientation"
   ]
  },
  {
   "cell_type": "code",
   "execution_count": 15,
   "id": "847ed990",
   "metadata": {},
   "outputs": [
    {
     "data": {
      "text/plain": [
       "DataFrame[gender: string, count: bigint, gender_label: string]"
      ]
     },
     "execution_count": 15,
     "metadata": {},
     "output_type": "execute_result"
    }
   ],
   "source": [
    "gender_categories = biographies.groupby('gender').count()\n",
    "gender_categories = add_label(spark, gender_categories, 'gender', wikidata_snapshot)\n",
    "gender_categories.cache()"
   ]
  },
  {
   "cell_type": "code",
   "execution_count": 16,
   "id": "cbbd2e95",
   "metadata": {},
   "outputs": [],
   "source": [
    "gender_categories = gender_categories.toPandas()"
   ]
  },
  {
   "cell_type": "code",
   "execution_count": 17,
   "id": "df583dcc",
   "metadata": {},
   "outputs": [
    {
     "data": {
      "text/html": [
       "<div>\n",
       "<style scoped>\n",
       "    .dataframe tbody tr th:only-of-type {\n",
       "        vertical-align: middle;\n",
       "    }\n",
       "\n",
       "    .dataframe tbody tr th {\n",
       "        vertical-align: top;\n",
       "    }\n",
       "\n",
       "    .dataframe thead th {\n",
       "        text-align: right;\n",
       "    }\n",
       "</style>\n",
       "<table border=\"1\" class=\"dataframe\">\n",
       "  <thead>\n",
       "    <tr style=\"text-align: right;\">\n",
       "      <th></th>\n",
       "      <th>gender</th>\n",
       "      <th>count</th>\n",
       "      <th>gender_label</th>\n",
       "    </tr>\n",
       "  </thead>\n",
       "  <tbody>\n",
       "    <tr>\n",
       "      <th>21</th>\n",
       "      <td>Q6581097</td>\n",
       "      <td>5659589</td>\n",
       "      <td>\"male\"</td>\n",
       "    </tr>\n",
       "    <tr>\n",
       "      <th>27</th>\n",
       "      <td>Q6581072</td>\n",
       "      <td>1756388</td>\n",
       "      <td>\"female\"</td>\n",
       "    </tr>\n",
       "    <tr>\n",
       "      <th>26</th>\n",
       "      <td>Q1052281</td>\n",
       "      <td>1046</td>\n",
       "      <td>\"transgender female\"</td>\n",
       "    </tr>\n",
       "    <tr>\n",
       "      <th>23</th>\n",
       "      <td>Q48270</td>\n",
       "      <td>428</td>\n",
       "      <td>\"non-binary\"</td>\n",
       "    </tr>\n",
       "    <tr>\n",
       "      <th>36</th>\n",
       "      <td>Q2449503</td>\n",
       "      <td>265</td>\n",
       "      <td>\"transgender male\"</td>\n",
       "    </tr>\n",
       "    <tr>\n",
       "      <th>2</th>\n",
       "      <td>Q179294</td>\n",
       "      <td>129</td>\n",
       "      <td>\"eunuch\"</td>\n",
       "    </tr>\n",
       "    <tr>\n",
       "      <th>34</th>\n",
       "      <td>Q1097630</td>\n",
       "      <td>72</td>\n",
       "      <td>\"intersex\"</td>\n",
       "    </tr>\n",
       "    <tr>\n",
       "      <th>9</th>\n",
       "      <td>Q18116794</td>\n",
       "      <td>32</td>\n",
       "      <td>\"genderfluid\"</td>\n",
       "    </tr>\n",
       "    <tr>\n",
       "      <th>19</th>\n",
       "      <td>Q12964198</td>\n",
       "      <td>27</td>\n",
       "      <td>\"genderqueer\"</td>\n",
       "    </tr>\n",
       "    <tr>\n",
       "      <th>32</th>\n",
       "      <td>Q15145779</td>\n",
       "      <td>14</td>\n",
       "      <td>\"cisgender female\"</td>\n",
       "    </tr>\n",
       "    <tr>\n",
       "      <th>18</th>\n",
       "      <td>Q189125</td>\n",
       "      <td>12</td>\n",
       "      <td>\"transgender person\"</td>\n",
       "    </tr>\n",
       "    <tr>\n",
       "      <th>20</th>\n",
       "      <td>Q301702</td>\n",
       "      <td>11</td>\n",
       "      <td>\"two-spirit\"</td>\n",
       "    </tr>\n",
       "    <tr>\n",
       "      <th>12</th>\n",
       "      <td>Q505371</td>\n",
       "      <td>11</td>\n",
       "      <td>\"agender\"</td>\n",
       "    </tr>\n",
       "    <tr>\n",
       "      <th>0</th>\n",
       "      <td>Q15145778</td>\n",
       "      <td>10</td>\n",
       "      <td>\"cisgender male\"</td>\n",
       "    </tr>\n",
       "    <tr>\n",
       "      <th>7</th>\n",
       "      <td>Q27679684</td>\n",
       "      <td>5</td>\n",
       "      <td>\"transfeminine\"</td>\n",
       "    </tr>\n",
       "    <tr>\n",
       "      <th>11</th>\n",
       "      <td>Q27679766</td>\n",
       "      <td>5</td>\n",
       "      <td>\"transmasculine\"</td>\n",
       "    </tr>\n",
       "    <tr>\n",
       "      <th>3</th>\n",
       "      <td>Q859614</td>\n",
       "      <td>4</td>\n",
       "      <td>\"bigender\"</td>\n",
       "    </tr>\n",
       "    <tr>\n",
       "      <th>4</th>\n",
       "      <td>Q52261234</td>\n",
       "      <td>4</td>\n",
       "      <td>\"neutral sex\"</td>\n",
       "    </tr>\n",
       "    <tr>\n",
       "      <th>28</th>\n",
       "      <td>Q24238356</td>\n",
       "      <td>3</td>\n",
       "      <td>\"unknown\"</td>\n",
       "    </tr>\n",
       "    <tr>\n",
       "      <th>10</th>\n",
       "      <td>Q44148</td>\n",
       "      <td>3</td>\n",
       "      <td>\"male organism\"</td>\n",
       "    </tr>\n",
       "    <tr>\n",
       "      <th>35</th>\n",
       "      <td>Q1399232</td>\n",
       "      <td>3</td>\n",
       "      <td>\"fa'afafine\"</td>\n",
       "    </tr>\n",
       "    <tr>\n",
       "      <th>13</th>\n",
       "      <td>Q207959</td>\n",
       "      <td>3</td>\n",
       "      <td>\"androgyny\"</td>\n",
       "    </tr>\n",
       "    <tr>\n",
       "      <th>1</th>\n",
       "      <td>Q3277905</td>\n",
       "      <td>2</td>\n",
       "      <td>\"māhū\"</td>\n",
       "    </tr>\n",
       "    <tr>\n",
       "      <th>31</th>\n",
       "      <td>Q1289754</td>\n",
       "      <td>2</td>\n",
       "      <td>\"neutrois\"</td>\n",
       "    </tr>\n",
       "    <tr>\n",
       "      <th>30</th>\n",
       "      <td>Q746411</td>\n",
       "      <td>2</td>\n",
       "      <td>\"kathoey\"</td>\n",
       "    </tr>\n",
       "    <tr>\n",
       "      <th>16</th>\n",
       "      <td>Q7130936</td>\n",
       "      <td>1</td>\n",
       "      <td>\"pangender\"</td>\n",
       "    </tr>\n",
       "    <tr>\n",
       "      <th>33</th>\n",
       "      <td>Q29985176</td>\n",
       "      <td>1</td>\n",
       "      <td>\"Not known\"</td>\n",
       "    </tr>\n",
       "    <tr>\n",
       "      <th>29</th>\n",
       "      <td>Q93954933</td>\n",
       "      <td>1</td>\n",
       "      <td>\"demiboy\"</td>\n",
       "    </tr>\n",
       "    <tr>\n",
       "      <th>6</th>\n",
       "      <td>Q3177577</td>\n",
       "      <td>1</td>\n",
       "      <td>\"muxe\"</td>\n",
       "    </tr>\n",
       "    <tr>\n",
       "      <th>5</th>\n",
       "      <td>Q48279</td>\n",
       "      <td>1</td>\n",
       "      <td>\"third gender\"</td>\n",
       "    </tr>\n",
       "    <tr>\n",
       "      <th>17</th>\n",
       "      <td>Q16874665</td>\n",
       "      <td>1</td>\n",
       "      <td>\"Male\"</td>\n",
       "    </tr>\n",
       "    <tr>\n",
       "      <th>25</th>\n",
       "      <td>Q100356081</td>\n",
       "      <td>1</td>\n",
       "      <td>\"Not Known\"</td>\n",
       "    </tr>\n",
       "    <tr>\n",
       "      <th>14</th>\n",
       "      <td>Q4700377</td>\n",
       "      <td>1</td>\n",
       "      <td>\"akava'ine\"</td>\n",
       "    </tr>\n",
       "    <tr>\n",
       "      <th>22</th>\n",
       "      <td>Q948437</td>\n",
       "      <td>1</td>\n",
       "      <td>\"dhikr\"</td>\n",
       "    </tr>\n",
       "    <tr>\n",
       "      <th>8</th>\n",
       "      <td>Q51415</td>\n",
       "      <td>1</td>\n",
       "      <td>\"queer\"</td>\n",
       "    </tr>\n",
       "    <tr>\n",
       "      <th>15</th>\n",
       "      <td>Q17148251</td>\n",
       "      <td>1</td>\n",
       "      <td>\"travesti\"</td>\n",
       "    </tr>\n",
       "    <tr>\n",
       "      <th>24</th>\n",
       "      <td>Q223341</td>\n",
       "      <td>1</td>\n",
       "      <td>\"League of Legends\"</td>\n",
       "    </tr>\n",
       "  </tbody>\n",
       "</table>\n",
       "</div>"
      ],
      "text/plain": [
       "        gender    count          gender_label\n",
       "21    Q6581097  5659589                \"male\"\n",
       "27    Q6581072  1756388              \"female\"\n",
       "26    Q1052281     1046  \"transgender female\"\n",
       "23      Q48270      428          \"non-binary\"\n",
       "36    Q2449503      265    \"transgender male\"\n",
       "2      Q179294      129              \"eunuch\"\n",
       "34    Q1097630       72            \"intersex\"\n",
       "9    Q18116794       32         \"genderfluid\"\n",
       "19   Q12964198       27         \"genderqueer\"\n",
       "32   Q15145779       14    \"cisgender female\"\n",
       "18     Q189125       12  \"transgender person\"\n",
       "20     Q301702       11          \"two-spirit\"\n",
       "12     Q505371       11             \"agender\"\n",
       "0    Q15145778       10      \"cisgender male\"\n",
       "7    Q27679684        5       \"transfeminine\"\n",
       "11   Q27679766        5      \"transmasculine\"\n",
       "3      Q859614        4            \"bigender\"\n",
       "4    Q52261234        4         \"neutral sex\"\n",
       "28   Q24238356        3             \"unknown\"\n",
       "10      Q44148        3       \"male organism\"\n",
       "35    Q1399232        3          \"fa'afafine\"\n",
       "13     Q207959        3           \"androgyny\"\n",
       "1     Q3277905        2                \"māhū\"\n",
       "31    Q1289754        2            \"neutrois\"\n",
       "30     Q746411        2             \"kathoey\"\n",
       "16    Q7130936        1           \"pangender\"\n",
       "33   Q29985176        1           \"Not known\"\n",
       "29   Q93954933        1             \"demiboy\"\n",
       "6     Q3177577        1                \"muxe\"\n",
       "5       Q48279        1        \"third gender\"\n",
       "17   Q16874665        1                \"Male\"\n",
       "25  Q100356081        1           \"Not Known\"\n",
       "14    Q4700377        1           \"akava'ine\"\n",
       "22     Q948437        1               \"dhikr\"\n",
       "8       Q51415        1               \"queer\"\n",
       "15   Q17148251        1            \"travesti\"\n",
       "24     Q223341        1   \"League of Legends\""
      ]
     },
     "execution_count": 17,
     "metadata": {},
     "output_type": "execute_result"
    }
   ],
   "source": [
    "gender_categories.sort_values('count', ascending=False) # human qitems"
   ]
  },
  {
   "cell_type": "code",
   "execution_count": 19,
   "id": "6747dffa",
   "metadata": {},
   "outputs": [
    {
     "data": {
      "text/plain": [
       "DataFrame[sexual_orientation: string, count: bigint, gender_label: string]"
      ]
     },
     "execution_count": 19,
     "metadata": {},
     "output_type": "execute_result"
    }
   ],
   "source": [
    "sexual_orientation_categories = biographies.groupby('sexual_orientation').count()\n",
    "sexual_orientation_categories = add_label(spark, sexual_orientation_categories, 'sexual_orientation', wikidata_snapshot)\n",
    "sexual_orientation_categories.cache()"
   ]
  },
  {
   "cell_type": "code",
   "execution_count": 20,
   "id": "90320004",
   "metadata": {},
   "outputs": [
    {
     "data": {
      "text/html": [
       "<div>\n",
       "<style scoped>\n",
       "    .dataframe tbody tr th:only-of-type {\n",
       "        vertical-align: middle;\n",
       "    }\n",
       "\n",
       "    .dataframe tbody tr th {\n",
       "        vertical-align: top;\n",
       "    }\n",
       "\n",
       "    .dataframe thead th {\n",
       "        text-align: right;\n",
       "    }\n",
       "</style>\n",
       "<table border=\"1\" class=\"dataframe\">\n",
       "  <thead>\n",
       "    <tr style=\"text-align: right;\">\n",
       "      <th></th>\n",
       "      <th>sexual_orientation</th>\n",
       "      <th>count</th>\n",
       "      <th>gender_label</th>\n",
       "    </tr>\n",
       "  </thead>\n",
       "  <tbody>\n",
       "    <tr>\n",
       "      <th>11</th>\n",
       "      <td>Q6636</td>\n",
       "      <td>1010</td>\n",
       "      <td>\"homosexuality\"</td>\n",
       "    </tr>\n",
       "    <tr>\n",
       "      <th>12</th>\n",
       "      <td>Q6649</td>\n",
       "      <td>801</td>\n",
       "      <td>\"lesbianism\"</td>\n",
       "    </tr>\n",
       "    <tr>\n",
       "      <th>9</th>\n",
       "      <td>Q43200</td>\n",
       "      <td>576</td>\n",
       "      <td>\"bisexuality\"</td>\n",
       "    </tr>\n",
       "    <tr>\n",
       "      <th>7</th>\n",
       "      <td>Q592</td>\n",
       "      <td>347</td>\n",
       "      <td>\"gay\"</td>\n",
       "    </tr>\n",
       "    <tr>\n",
       "      <th>1</th>\n",
       "      <td>Q339014</td>\n",
       "      <td>193</td>\n",
       "      <td>\"non-heterosexuality\"</td>\n",
       "    </tr>\n",
       "    <tr>\n",
       "      <th>10</th>\n",
       "      <td>Q1035954</td>\n",
       "      <td>111</td>\n",
       "      <td>\"heterosexuality\"</td>\n",
       "    </tr>\n",
       "    <tr>\n",
       "      <th>13</th>\n",
       "      <td>Q271534</td>\n",
       "      <td>60</td>\n",
       "      <td>\"pansexuality\"</td>\n",
       "    </tr>\n",
       "    <tr>\n",
       "      <th>2</th>\n",
       "      <td>Q724351</td>\n",
       "      <td>33</td>\n",
       "      <td>\"asexuality\"</td>\n",
       "    </tr>\n",
       "    <tr>\n",
       "      <th>0</th>\n",
       "      <td>Q23912283</td>\n",
       "      <td>7</td>\n",
       "      <td>\"demisexuality\"</td>\n",
       "    </tr>\n",
       "    <tr>\n",
       "      <th>14</th>\n",
       "      <td>Q20011275</td>\n",
       "      <td>3</td>\n",
       "      <td>\"sapiosexuality\"</td>\n",
       "    </tr>\n",
       "    <tr>\n",
       "      <th>5</th>\n",
       "      <td>Q51415</td>\n",
       "      <td>2</td>\n",
       "      <td>\"queer\"</td>\n",
       "    </tr>\n",
       "    <tr>\n",
       "      <th>3</th>\n",
       "      <td>Q93771184</td>\n",
       "      <td>1</td>\n",
       "      <td>\"hasbian\"</td>\n",
       "    </tr>\n",
       "    <tr>\n",
       "      <th>4</th>\n",
       "      <td>Q190845</td>\n",
       "      <td>1</td>\n",
       "      <td>\"BDSM\"</td>\n",
       "    </tr>\n",
       "    <tr>\n",
       "      <th>6</th>\n",
       "      <td>Q8354594</td>\n",
       "      <td>1</td>\n",
       "      <td>\"gray asexuality\"</td>\n",
       "    </tr>\n",
       "    <tr>\n",
       "      <th>8</th>\n",
       "      <td>Q19810527</td>\n",
       "      <td>1</td>\n",
       "      <td>\"sexual fluidity\"</td>\n",
       "    </tr>\n",
       "  </tbody>\n",
       "</table>\n",
       "</div>"
      ],
      "text/plain": [
       "   sexual_orientation  count           gender_label\n",
       "11              Q6636   1010        \"homosexuality\"\n",
       "12              Q6649    801           \"lesbianism\"\n",
       "9              Q43200    576          \"bisexuality\"\n",
       "7                Q592    347                  \"gay\"\n",
       "1             Q339014    193  \"non-heterosexuality\"\n",
       "10           Q1035954    111      \"heterosexuality\"\n",
       "13            Q271534     60         \"pansexuality\"\n",
       "2             Q724351     33           \"asexuality\"\n",
       "0           Q23912283      7        \"demisexuality\"\n",
       "14          Q20011275      3       \"sapiosexuality\"\n",
       "5              Q51415      2                \"queer\"\n",
       "3           Q93771184      1              \"hasbian\"\n",
       "4             Q190845      1                 \"BDSM\"\n",
       "6            Q8354594      1      \"gray asexuality\"\n",
       "8           Q19810527      1      \"sexual fluidity\""
      ]
     },
     "execution_count": 20,
     "metadata": {},
     "output_type": "execute_result"
    }
   ],
   "source": [
    "sexual_orientation_categories = sexual_orientation_categories.toPandas()\n",
    "sexual_orientation_categories.sort_values('count', ascending=False)"
   ]
  },
  {
   "cell_type": "code",
   "execution_count": null,
   "id": "a47146dc",
   "metadata": {},
   "outputs": [],
   "source": []
  },
  {
   "cell_type": "code",
   "execution_count": null,
   "id": "c71a453c",
   "metadata": {},
   "outputs": [],
   "source": []
  },
  {
   "cell_type": "code",
   "execution_count": null,
   "id": "7d0d721f",
   "metadata": {},
   "outputs": [],
   "source": []
  },
  {
   "cell_type": "code",
   "execution_count": null,
   "id": "eef5cb63",
   "metadata": {},
   "outputs": [],
   "source": []
  }
 ],
 "metadata": {
  "kernelspec": {
   "display_name": "Python 3",
   "language": "python",
   "name": "python3"
  },
  "language_info": {
   "codemirror_mode": {
    "name": "ipython",
    "version": 3
   },
   "file_extension": ".py",
   "mimetype": "text/x-python",
   "name": "python",
   "nbconvert_exporter": "python",
   "pygments_lexer": "ipython3",
   "version": "3.7.6"
  }
 },
 "nbformat": 4,
 "nbformat_minor": 5
}
